{
  "nbformat": 4,
  "nbformat_minor": 0,
  "metadata": {
    "colab": {
      "name": "visualKG_with_neo4j.ipynb",
      "provenance": [],
      "collapsed_sections": [],
      "authorship_tag": "ABX9TyNBQ0HikOLsTdNxa/5APWmk",
      "include_colab_link": true
    },
    "kernelspec": {
      "name": "python3",
      "display_name": "Python 3"
    },
    "language_info": {
      "name": "python"
    }
  },
  "cells": [
    {
      "cell_type": "markdown",
      "metadata": {
        "id": "view-in-github",
        "colab_type": "text"
      },
      "source": [
        "<a href=\"https://colab.research.google.com/github/dinhan2411/HDH-Ass2/blob/master/Visualization/visualKG_with_neo4j.ipynb\" target=\"_parent\"><img src=\"https://colab.research.google.com/assets/colab-badge.svg\" alt=\"Open In Colab\"/></a>"
      ]
    },
    {
      "cell_type": "markdown",
      "metadata": {
        "id": "LeANsqcA2pyX"
      },
      "source": [
        "#Dùng neo4j\n",
        "- tạo database neo4j\n",
        "- kết nối với neo4j sandbox bằng connection\n",
        "- tạo các entity + relation bằng các command trong notebook\n",
        "- vào neo4j browser (desktop) để xem graph"
      ]
    },
    {
      "cell_type": "code",
      "metadata": {
        "id": "LDtFttJW2lun"
      },
      "source": [
        "from google.colab import drive\n",
        "drive.mount('/content/gdrive')\n",
        "%cd \"/content/gdrive/MyDrive/Colab/Neural_LP\"\n",
        "!git clone https://github.com/fanyangxyz/Neural-LP.git"
      ],
      "execution_count": null,
      "outputs": []
    },
    {
      "cell_type": "code",
      "metadata": {
        "colab": {
          "base_uri": "https://localhost:8080/"
        },
        "id": "gnItprCTxI-V",
        "outputId": "6387746b-e224-47dd-f6a7-00a2f879b976"
      },
      "source": [
        "!pip install neo4j\n",
        "from neo4j import GraphDatabase"
      ],
      "execution_count": 5,
      "outputs": [
        {
          "output_type": "stream",
          "text": [
            "Collecting neo4j\n",
            "\u001b[?25l  Downloading https://files.pythonhosted.org/packages/0b/22/9b6d28613e8a564b9e82cf3b871b6df1f58a99cf5ac8a100439f9e895b5f/neo4j-4.3.1.tar.gz (74kB)\n",
            "\r\u001b[K     |████▍                           | 10kB 14.8MB/s eta 0:00:01\r\u001b[K     |████████▊                       | 20kB 10.3MB/s eta 0:00:01\r\u001b[K     |█████████████▏                  | 30kB 8.2MB/s eta 0:00:01\r\u001b[K     |█████████████████▌              | 40kB 7.7MB/s eta 0:00:01\r\u001b[K     |██████████████████████          | 51kB 4.2MB/s eta 0:00:01\r\u001b[K     |██████████████████████████▎     | 61kB 4.4MB/s eta 0:00:01\r\u001b[K     |██████████████████████████████▊ | 71kB 4.8MB/s eta 0:00:01\r\u001b[K     |████████████████████████████████| 81kB 3.8MB/s \n",
            "\u001b[?25hRequirement already satisfied: pytz in /usr/local/lib/python3.7/dist-packages (from neo4j) (2018.9)\n",
            "Building wheels for collected packages: neo4j\n",
            "  Building wheel for neo4j (setup.py) ... \u001b[?25l\u001b[?25hdone\n",
            "  Created wheel for neo4j: filename=neo4j-4.3.1-cp37-none-any.whl size=99332 sha256=e7fc20c188291b49a874c543be6fd35038ae9d1da8400afa706b4303930e0f08\n",
            "  Stored in directory: /root/.cache/pip/wheels/23/13/72/0cc2405898bd9a7baef6512df3abf83873da9ba48c04acc818\n",
            "Successfully built neo4j\n",
            "Installing collected packages: neo4j\n",
            "Successfully installed neo4j-4.3.1\n"
          ],
          "name": "stdout"
        }
      ]
    },
    {
      "cell_type": "markdown",
      "metadata": {
        "id": "aX_rfSGN0y6Y"
      },
      "source": [
        "Class Connection"
      ]
    },
    {
      "cell_type": "code",
      "metadata": {
        "id": "NbXEfuwwxepk"
      },
      "source": [
        "class Neo4jConnection:\n",
        "    \n",
        "    def __init__(self, uri, user, pwd):\n",
        "        self.__uri = uri\n",
        "        self.__user = user\n",
        "        self.__pwd = pwd\n",
        "        self.__driver = None\n",
        "        try:\n",
        "            self.__driver = GraphDatabase.driver(self.__uri, auth=(self.__user, self.__pwd))\n",
        "        except Exception as e:\n",
        "            print(\"Failed to create the driver:\", e)\n",
        "        \n",
        "    def close(self):\n",
        "        if self.__driver is not None:\n",
        "            self.__driver.close()\n",
        "        \n",
        "    def query(self, query, parameters=None, db=None):\n",
        "        assert self.__driver is not None, \"Driver not initialized!\"\n",
        "        session = None\n",
        "        response = None\n",
        "        try: \n",
        "            session = self.__driver.session(database=db) if db is not None else self.__driver.session() \n",
        "            response = list(session.run(query, parameters))\n",
        "        except Exception as e:\n",
        "            print(\"Query failed:\", e)\n",
        "        finally: \n",
        "            if session is not None:\n",
        "                session.close()\n",
        "        return response"
      ],
      "execution_count": 6,
      "outputs": []
    },
    {
      "cell_type": "markdown",
      "metadata": {
        "id": "FtvENObdxkDg"
      },
      "source": [
        "Tạo connection cố định"
      ]
    },
    {
      "cell_type": "code",
      "metadata": {
        "id": "kY4COkcdxisR"
      },
      "source": [
        "conn = Neo4jConnection(uri=\"bolt://3.83.36.217:7687\", user=\"neo4j\", pwd=\"rides-regulations-anthem\")"
      ],
      "execution_count": 7,
      "outputs": []
    },
    {
      "cell_type": "markdown",
      "metadata": {
        "id": "WEdpBirQ04bA"
      },
      "source": [
        "Chọn toàn bộ Entity"
      ]
    },
    {
      "cell_type": "code",
      "metadata": {
        "id": "z3xXho_M0392"
      },
      "source": [
        "conn.query(\"match(n) return(n)\")"
      ],
      "execution_count": null,
      "outputs": []
    },
    {
      "cell_type": "markdown",
      "metadata": {
        "id": "oynvMukk1G2j"
      },
      "source": [
        "Xóa toàn bộ Entity + Relation"
      ]
    },
    {
      "cell_type": "code",
      "metadata": {
        "id": "n6JL1vSy1JX7"
      },
      "source": [
        "conn.query(\"MATCH (n) DETACH DELETE n\")"
      ],
      "execution_count": null,
      "outputs": []
    },
    {
      "cell_type": "markdown",
      "metadata": {
        "id": "Kc7ZXdAJ1lmx"
      },
      "source": [
        "Tạo graph từ file facts.txt"
      ]
    },
    {
      "cell_type": "code",
      "metadata": {
        "id": "qPhT07xU1k22"
      },
      "source": [
        "%cd \"/content/gdrive/MyDrive/Colab/Neural_LP/Neural-LP/datasets/family\"\n",
        "\n",
        "entities = []\n",
        "f = open(\"facts.txt\", \"r\")\n",
        "for x in range(3000):\n",
        "  line = f.readline()\n",
        "  spl = line.split()\n",
        "  if spl[0] not in entities:\n",
        "    entities.append(spl[0])\n",
        "    queryy = \"CREATE ( e{} :Entity {{ name:'{}' }})\".format(str(spl[0].strip()), str(spl[0].strip()))\n",
        "    respond = conn.query(queryy)\n",
        "    print(respond)\n",
        "  if spl[2] not in entities:\n",
        "    entities.append(spl[2])\n",
        "    queryy = \"CREATE ( e{} :Entity {{ name:'{}' }})\".format(str(spl[2].strip()), str(spl[2].strip()))\n",
        "    respond = conn.query(queryy)\n",
        "    print(respond)\n",
        "  \n",
        "  queryy = \"MATCH (e{a}:Entity), (e{b}:Entity) WHERE e{a}.name = '{a}' AND e{b}.name = '{b}' CREATE (e{a})-[{rel}:{rel}]->(e{b})\".format(\n",
        "      a = str(spl[0].strip()), b = str(spl[2].strip()), rel = str(spl[1].strip()))\n",
        "  respond = conn.query(queryy)\n",
        "  print(respond)\n",
        "  print(x)\n",
        "f.close()"
      ],
      "execution_count": null,
      "outputs": []
    },
    {
      "cell_type": "markdown",
      "metadata": {
        "id": "A2ruMbT_1y29"
      },
      "source": [
        "Tạo graph từ file entities.txt và facts.txt"
      ]
    },
    {
      "cell_type": "code",
      "metadata": {
        "id": "fMghoqn915Mk"
      },
      "source": [
        "%cd \"/content/gdrive/MyDrive/Colab/Neural_LP/Neural-LP/datasets/family\"\n",
        "# count = 0\n",
        "# print(\"Using readlines()\")\n",
        "\n",
        "conn.query(\"MATCH (n) DETACH DELETE n\")\n",
        "\n",
        "f = open(\"entities.txt\", \"r\")\n",
        "for line in f:\n",
        "  line = line.strip()\n",
        "  queryy = \"CREATE ( e{} :Entity {{ name:'{}' }})\".format(str(line), str(line))\n",
        "  respond = conn.query(queryy)\n",
        "  print(respond)\n",
        "f.close()\n",
        "\n",
        "f = open(\"facts.txt\", \"r\")\n",
        "for line in f:\n",
        "  print(line)\n",
        "  spl = line.split()\n",
        "\n",
        "  queryy = \"MATCH (e{a}:Entity), (e{b}:Entity) WHERE e{a}.name = '{a}' AND e{b}.name = '{b}' CREATE (e{a})-[{rel}:{rel}]->(e{b})\".format(\n",
        "      a = str(spl[0].strip()), b = str(spl[2].strip()), rel = str(spl[1].strip()))\n",
        "  respond = conn.query(queryy)\n",
        "  print(respond)\n",
        "  #print(x)\n",
        "f.close()"
      ],
      "execution_count": null,
      "outputs": []
    }
  ]
}